{
 "cells": [
  {
   "cell_type": "markdown",
   "metadata": {},
   "source": [
    "**Mathematical Foundations for Computer Vision and Machine Learning**\n",
    "\n",
    "*** Assignment04 - k-means algorithm (MNIST) ***\n",
    "\n",
    "Name: Jinwoo Jeon\n",
    "\n",
    "Student ID: 20143954\n",
    "\n",
    "\n",
    "[Link to Github](https://github.com/zinuzian/assignment04)"
   ]
  },
  {
   "cell_type": "markdown",
   "metadata": {},
   "source": [
    "# Setting up\n",
    "\n",
    "By changing variable numOfClusters, you can see that \"k\" in **k-means** changes. But in this assignment, **k is 10**.\n",
    "\n",
    "Variable ```label``` is used to store the label of nth image.\n",
    "\n",
    "Variable ```im_average``` stores the vector of centroids of each clusters.\n",
    "\n",
    "Variable ```im_count``` stores the number of images of each cluster.\n",
    "\n",
    "Variable ```E``` stores the energy of each loop.\n",
    "\n",
    "Variable ```A``` stores the accuracy of each loop.\n",
    "\n",
    "Variable ```threshold``` means the termination condition of this algorithm, which can be written as :\n",
    "\n",
    "$$ \\Delta{E} = E_{n-1} - E_{n}$$\n",
    "$$ E_{n-1} - E_{n} < threshold$$\n",
    "\n",
    "The **maximum k** is **6** since there's not enough color. "
   ]
  },
  {
   "cell_type": "code",
   "execution_count": 1,
   "metadata": {},
   "outputs": [],
   "source": [
    "import numpy as np\n",
    "import matplotlib.pyplot as plt\n",
    "\n",
    "file_data = \"mnist_test.csv\"\n",
    "handle_file = open(file_data, \"r\")\n",
    "data = handle_file.readlines()\n",
    "handle_file.close()\n",
    "\n",
    "# Conditions\n",
    "numOfClusters = 10\n",
    "size_row = 28  # height of the image\n",
    "size_col = 28  # width of the image\n",
    "dim = size_col * size_row\n",
    "num_image = 0\n",
    "im_average = np.zeros((dim, numOfClusters), dtype=float)           # centroid of each cluster\n",
    "im_count = np.zeros(10, dtype=int)\n",
    "E = [] # energy of each iteration\n",
    "A = [] # accuracy of each iteration\n",
    "iter_num = 0\n",
    "threshold = 0.005\n",
    "a = np.zeros(numOfClusters)\n"
   ]
  },
  {
   "cell_type": "markdown",
   "metadata": {},
   "source": [
    "# Normalize\n",
    "\n",
    "We normalize images since there can be some differences in lightness."
   ]
  },
  {
   "cell_type": "code",
   "execution_count": 2,
   "metadata": {},
   "outputs": [],
   "source": [
    "# Functions\n",
    "\n",
    "def normalize(data):\n",
    "    data_normalized = (data - min(data)) / (max(data) - min(data))\n",
    "\n",
    "    return (data_normalized)"
   ]
  },
  {
   "cell_type": "markdown",
   "metadata": {},
   "source": [
    "# Loading Images\n",
    "\n",
    "Variable ```list_image``` stores the images as vector.\n",
    "\n",
    "Variable ```list_label``` stores the label of each image.\n",
    "\n",
    "Variable ```list_assign``` stores the cluster number that image is assigned.\n",
    "\n",
    "Variable ```listOfDist``` stores the distance (second-order) from one point to all centroids."
   ]
  },
  {
   "cell_type": "code",
   "execution_count": 3,
   "metadata": {},
   "outputs": [],
   "source": [
    "def load():\n",
    "    num_image = len(data)\n",
    "    count = 0  # count for the number of images\n",
    "    list_image = np.zeros((size_row * size_col, num_image), dtype=float)  # image data\n",
    "    list_label = np.zeros(num_image, dtype=int)  # given label of image\n",
    "    list_assign = np.zeros(num_image, dtype=int)\n",
    "    listOfDist = np.zeros((numOfClusters, num_image))\n",
    "\n",
    "    for line in data:\n",
    "        line_data = line.split(',')\n",
    "        label = line_data[0]\n",
    "        im_vector = np.asfarray(line_data[1:])\n",
    "        im_vector = normalize(im_vector)\n",
    "\n",
    "        list_label[count] = label\n",
    "        list_image[:, count] = im_vector\n",
    "\n",
    "        count += 1\n",
    "\n",
    "    return list_image, list_label, list_assign, listOfDist, num_image"
   ]
  },
  {
   "cell_type": "markdown",
   "metadata": {},
   "source": [
    "# Define Essential Functions\n",
    "\n",
    "I define some funtions that is essential to implement k-means algorithm.\n",
    "\n",
    "```initializeLabel``` initializes the whole images' label.\n",
    "\n",
    "```computeDistance``` computes the matrix ```listOfDist```\n",
    "\n",
    "```assignLabel``` assigns the whole images to the most close centroid.\n",
    "\n",
    "```computeCentroid``` computes the vector of each centroids using ```list_assign``` and ```list_image```.\n",
    "\n",
    "```computeEnergy``` computes energy of each step and record it to list ```E```\n",
    "\n",
    "```computeAccuracy``` computes accuracy of each step and record it to list ```A```\n",
    "\n",
    "```record``` calls ```computeEnergy``` and ```computeAccuracy```."
   ]
  },
  {
   "cell_type": "code",
   "execution_count": 4,
   "metadata": {},
   "outputs": [],
   "source": [
    "def initializeLabel(numOfClusters):\n",
    "    return np.random.randint(numOfClusters, size = num_image)\n",
    "\n",
    "def computeDistance():\n",
    "    # L2 Norm\n",
    "    for c in range(numOfClusters):\n",
    "        for i in range(num_image):\n",
    "            listOfDist[c][i] = sum((im_average[:,c] - list_image[:,i])**2)\n",
    "\n",
    "def assignLabel():\n",
    "    for i in range(num_image):\n",
    "        list_assign[i] = np.argmin(listOfDist[:,i])\n",
    "\n",
    "def computeCentroid():\n",
    "    num = np.zeros((numOfClusters))\n",
    "    c = np.zeros((dim, numOfClusters))\n",
    "\n",
    "    for i in range(num_image):\n",
    "        num[list_assign[i]] += 1\n",
    "        c[:,list_assign[i]] += list_image[:,i]\n",
    "\n",
    "    for i in range(numOfClusters):\n",
    "        c[:,i] /= num[i]\n",
    "    return c\n",
    "\n",
    "def computeEnergy(): #must decrease\n",
    "    energy = 0\n",
    "    for i in range(num_image):\n",
    "        energy += sum((im_average[:,list_assign[i]] - list_image[:,i])**2)\n",
    "    energy /= num_image\n",
    "    return energy\n",
    "\n",
    "def computeAccuracy():\n",
    "    corrects = 0\n",
    "    for k in range(numOfClusters):\n",
    "        im_count = np.zeros(numOfClusters)\n",
    "        for i in range(num_image):\n",
    "            if list_assign[i] == k:\n",
    "                im_count[list_label[i]] += 1\n",
    "\n",
    "        a[k] = np.argmax(im_count)\n",
    "\n",
    "    for i in range(num_image):\n",
    "        if list_label[i] == a[list_assign[i]]:\n",
    "            corrects += 1\n",
    "    return corrects/num_image\n",
    "\n",
    "def record():\n",
    "    E.append(computeEnergy())\n",
    "    A.append(computeAccuracy())"
   ]
  },
  {
   "cell_type": "markdown",
   "metadata": {},
   "source": [
    "# Initial Centroid Images\n",
    "\n",
    "By using ```list_assign = initializeLabel(numOfClusters=numOfClusters)``` the initial labels are set.\n",
    "$$ c_i = \\frac{1}{N}\\Sigma{x_k}   $$ where $$l(x_k) == i$$\n"
   ]
  },
  {
   "cell_type": "code",
   "execution_count": 5,
   "metadata": {},
   "outputs": [
    {
     "data": {
      "image/png": "[encoded data removed]",
      "text/plain": [
       "<Figure size 432x288 with 10 Axes>"
      ]
     },
     "metadata": {
      "needs_background": "light"
     },
     "output_type": "display_data"
    }
   ],
   "source": [
    "# Test Code\n",
    "list_image, list_label, list_assign, listOfDist, num_image = load()\n",
    "list_assign = initializeLabel(numOfClusters=numOfClusters)\n",
    "im_average = computeCentroid()\n",
    "record()\n",
    "iter_num += 1\n",
    "\n",
    "plt.figure(1)\n",
    "for i in range(numOfClusters):\n",
    "\n",
    "    plt.subplot(2, 5, i + 1)\n",
    "    plt.title(\"C\"+str(i)+\" - \"+str(a[i]))\n",
    "    plt.imshow(im_average[:, i].reshape((size_row, size_col)), cmap='Greys', interpolation='None')\n",
    "\n",
    "    frame = plt.gca()\n",
    "    frame.axes.get_xaxis().set_visible(False)\n",
    "    frame.axes.get_yaxis().set_visible(False)\n",
    "    \n",
    "plt.show()"
   ]
  },
  {
   "cell_type": "markdown",
   "metadata": {},
   "source": [
    "# Final label\n",
    "\n",
    "After k-means algorithm, the data are clustered into 'k' clusters. Data are labeled in ```list_assign``` and answers are stored in ```list_label```."
   ]
  },
  {
   "cell_type": "code",
   "execution_count": 6,
   "metadata": {},
   "outputs": [
    {
     "data": {
      "image/png": "[encoded data removed]",
      "text/plain": [
       "<Figure size 432x288 with 10 Axes>"
      ]
     },
     "metadata": {
      "needs_background": "light"
     },
     "output_type": "display_data"
    }
   ],
   "source": [
    "while True:\n",
    "    computeDistance()\n",
    "    assignLabel()\n",
    "    im_average = computeCentroid()\n",
    "    record()\n",
    "    #print(E[iter_num])\n",
    "    #print(A[iter_num])\n",
    "    if E[-2] - E[-1] < threshold:\n",
    "        break\n",
    "    iter_num += 1\n",
    "\n",
    "plt.figure(2)\n",
    "for i in range(numOfClusters):\n",
    "    plt.subplot(2, 5, i + 1)\n",
    "    plt.title(\"C\"+str(i)+\" - \"+str(a[i]))\n",
    "    plt.imshow(im_average[:, i].reshape((size_row, size_col)), cmap='Greys', interpolation='None')\n",
    "\n",
    "    frame = plt.gca()\n",
    "    frame.axes.get_xaxis().set_visible(False)\n",
    "    frame.axes.get_yaxis().set_visible(False)\n",
    "    \n",
    "plt.show()"
   ]
  },
  {
   "cell_type": "markdown",
   "metadata": {},
   "source": [
    "# Energy per each iteration\n",
    "\n",
    "$$ E = \\frac{1}{N}\\Sigma{\\|x_i - c_k\\|^2} $$\n",
    "\n",
    "Let's see if energy decreased monotonically. It seems my program works fine."
   ]
  },
  {
   "cell_type": "code",
   "execution_count": 7,
   "metadata": {},
   "outputs": [
    {
     "data": {
      "image/png": "[encoded data removed]",
      "text/plain": [
       "<Figure size 432x288 with 1 Axes>"
      ]
     },
     "metadata": {
      "needs_background": "light"
     },
     "output_type": "display_data"
    }
   ],
   "source": [
    "plt.figure(3)\n",
    "x_range = np.arange(iter_num+1)\n",
    "plt.plot(x_range,E,\"g\")\n",
    "plt.grid(True)\n",
    "plt.show()"
   ]
  },
  {
   "cell_type": "markdown",
   "metadata": {},
   "source": [
    "# Accuracy per each iteration\n",
    "\n",
    "$$ A = \\frac{1}{N}\\Sigma count{(x_i,c_k)} $$\n",
    "\n",
    "We first find what each cluster means. This is defined by argmax function.\n",
    "\n",
    "Next, we count correct images and divide it into number of images."
   ]
  },
  {
   "cell_type": "code",
   "execution_count": 8,
   "metadata": {},
   "outputs": [
    {
     "data": {
      "image/png": "[encoded data removed]",
      "text/plain": [
       "<Figure size 432x288 with 1 Axes>"
      ]
     },
     "metadata": {
      "needs_background": "light"
     },
     "output_type": "display_data"
    }
   ],
   "source": [
    "plt.figure(4)\n",
    "x_range = np.arange(iter_num+1)\n",
    "plt.plot(x_range,A,\"c\")\n",
    "plt.grid(True)\n",
    "plt.show()\n"
   ]
  },
  {
   "cell_type": "code",
   "execution_count": null,
   "metadata": {},
   "outputs": [],
   "source": []
  }
 ],
 "metadata": {
  "kernelspec": {
   "display_name": "Python 3",
   "language": "python",
   "name": "python3"
  },
  "language_info": {
   "codemirror_mode": {
    "name": "ipython",
    "version": 3
   },
   "file_extension": ".py",
   "mimetype": "text/x-python",
   "name": "python",
   "nbconvert_exporter": "python",
   "pygments_lexer": "ipython3",
   "version": "3.7.0"
  }
 },
 "nbformat": 4,
 "nbformat_minor": 2
}
